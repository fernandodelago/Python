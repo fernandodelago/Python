{
 "cells": [
  {
   "attachments": {},
   "cell_type": "markdown",
   "metadata": {
    "application/vnd.databricks.v1+cell": {
     "cellMetadata": {
      "byteLimit": 2048000,
      "rowLimit": 10000
     },
     "inputWidgets": {},
     "nuid": "63891f99-3d0b-4d90-8e2e-89450615c684",
     "showTitle": false,
     "title": ""
    }
   },
   "source": [
    "# Service Principal Grant Permission"
   ]
  },
  {
   "attachments": {},
   "cell_type": "markdown",
   "metadata": {
    "application/vnd.databricks.v1+cell": {
     "cellMetadata": {
      "byteLimit": 2048000,
      "rowLimit": 10000
     },
     "inputWidgets": {},
     "nuid": "6f360add-3d61-4cf7-8440-a3527859652c",
     "showTitle": false,
     "title": ""
    }
   },
   "source": [
    "## Before run this notebook, you need:\n",
    "- Access using Admin profile and \n",
    "- created a Service Principal for the Workspace\n",
    "- Grant permissions to the database, schemas and tables to Service Principal"
   ]
  },
  {
   "cell_type": "code",
   "execution_count": null,
   "metadata": {
    "application/vnd.databricks.v1+cell": {
     "cellMetadata": {
      "byteLimit": 2048000,
      "rowLimit": 10000
     },
     "inputWidgets": {},
     "nuid": "7cb2c862-97fc-4ba1-9282-2c0baf7c97b7",
     "showTitle": false,
     "title": ""
    }
   },
   "outputs": [],
   "source": [
    "import json"
   ]
  },
  {
   "cell_type": "code",
   "execution_count": null,
   "metadata": {
    "application/vnd.databricks.v1+cell": {
     "cellMetadata": {
      "byteLimit": 2048000,
      "rowLimit": 10000
     },
     "inputWidgets": {},
     "nuid": "0e181a98-1df7-4b56-a5b2-de8e9454c4a1",
     "showTitle": false,
     "title": ""
    }
   },
   "outputs": [],
   "source": [
    "# fill with Databricks Workspace URL\n",
    "var_databricks_workspace = 'https://<your_databrick>.<your_cloud>.databricks.com'\n",
    "\n",
    "# get the ID number on the URL of Service Principal screen (the last part on right side of URL)\n",
    "# var_service_principal_id = '7627787413689141'\n",
    "var_service_principal_id = '1234567891234567'\n",
    "\n",
    "# generate a personal access token that have admin privileges\n",
    "var_databricks_token     = 'my_token_code_is_here'"
   ]
  },
  {
   "cell_type": "code",
   "execution_count": null,
   "metadata": {
    "application/vnd.databricks.v1+cell": {
     "cellMetadata": {
      "byteLimit": 2048000,
      "rowLimit": 10000
     },
     "inputWidgets": {},
     "nuid": "b9b8482b-251d-4f35-aa4e-22dfca726080",
     "showTitle": false,
     "title": ""
    }
   },
   "outputs": [],
   "source": [
    "# Definition of list user in \"my_file\" that grant access to the Service Principal\n",
    "my_content = {\n",
    "    \"access_control_list\": [\n",
    "        {\"user_name\": \"user01@my_company.com\", \"permission_level\": \"CAN_BIND\"},\n",
    "        {\"user_name\": \"user02@my_company.com\", \"permission_level\": \"CAN_BIND\"},\n",
    "        {\"user_name\": \"user03@my_company.com\", \"permission_level\": \"CAN_BIND\"}\n",
    "    ]\n",
    "}"
   ]
  },
  {
   "cell_type": "code",
   "execution_count": null,
   "metadata": {
    "application/vnd.databricks.v1+cell": {
     "cellMetadata": {
      "byteLimit": 2048000,
      "rowLimit": 10000
     },
     "inputWidgets": {},
     "nuid": "d90ba236-1571-4c7e-b21f-d591c7414b63",
     "showTitle": false,
     "title": ""
    }
   },
   "outputs": [],
   "source": [
    "# open file and write\n",
    "with open(\"grant-service-principal.json\", \"w\") as my_file:\n",
    "    json_str = json.dumps(my_content, indent=4)\n",
    "    my_file.write(json_str)"
   ]
  },
  {
   "cell_type": "code",
   "execution_count": null,
   "metadata": {
    "application/vnd.databricks.v1+cell": {
     "cellMetadata": {
      "byteLimit": 2048000,
      "rowLimit": 10000
     },
     "inputWidgets": {},
     "nuid": "04b106a8-e2b9-4856-a3e7-518d2d9b38bc",
     "showTitle": false,
     "title": ""
    }
   },
   "outputs": [
    {
     "name": "stdout",
     "output_type": "stream",
     "text": [
      "/databricks/driver\n",
      "total 1324\n",
      "drwxr-xr-x 1 root root    4096 Jun  9 14:31 .\n",
      "drwxr-xr-x 1 root root    4096 Jun  9 14:31 ..\n",
      "drwxr-xr-x 2 root root    4096 Jan  1  1970 azure\n",
      "drwxr-xr-x 2 root root    4096 Jan  1  1970 conf\n",
      "drwxrwxrwx 3 root root    4096 Jun  9 14:30 eventlogs\n",
      "drwxrwxrwx 2 root root    4096 Jun  9 14:28 ganglia\n",
      "-rw-r--r-- 1 root root    1349 Jun  9 14:36 grant-service-principal.json\n",
      "-r-xr-xr-x 1 root root    2755 Jan  1  1970 hadoop_accessed_config.lst\n",
      "drwxrwxrwx 2 root root    4096 Jun  9 14:28 library-install-logs\n",
      "drwxrwxrwx 2 root root    4096 Jun  9 14:35 logs\n",
      "-r-xr-xr-x 1 root root 1306836 Jan  1  1970 preload_class.lst\n"
     ]
    }
   ],
   "source": [
    "%sh\n",
    "pwd\n",
    "ls -la"
   ]
  },
  {
   "cell_type": "code",
   "execution_count": null,
   "metadata": {
    "application/vnd.databricks.v1+cell": {
     "cellMetadata": {
      "byteLimit": 2048000,
      "rowLimit": 10000
     },
     "inputWidgets": {},
     "nuid": "0467372a-b4e5-4c4c-ba15-5bc1d299a884",
     "showTitle": false,
     "title": ""
    }
   },
   "outputs": [],
   "source": [
    "%sh\n",
    "cat grant-service-principal.json"
   ]
  },
  {
   "cell_type": "code",
   "execution_count": null,
   "metadata": {
    "application/vnd.databricks.v1+cell": {
     "cellMetadata": {
      "byteLimit": 2048000,
      "rowLimit": 10000
     },
     "inputWidgets": {},
     "nuid": "b5ce3488-459c-4d3c-b79f-2a4abadcdc4f",
     "showTitle": false,
     "title": ""
    }
   },
   "outputs": [],
   "source": [
    "import requests\n",
    "\n",
    "# URL and data for the request\n",
    "url = f\"{var_databricks_workspace}/api/2.0/permissions/service-principals/{var_service_principal_id}\"\n",
    "#print(url)\n",
    "headers = {\n",
    "    \"Content-type\": \"application/json\",\n",
    "    \"Authorization\": f\"Bearer {var_databricks_token}\"\n",
    "}"
   ]
  },
  {
   "cell_type": "code",
   "execution_count": null,
   "metadata": {
    "application/vnd.databricks.v1+cell": {
     "cellMetadata": {
      "byteLimit": 2048000,
      "rowLimit": 10000
     },
     "inputWidgets": {},
     "nuid": "c0fa4144-719f-4434-bb4f-30b42c74fa64",
     "showTitle": false,
     "title": ""
    }
   },
   "outputs": [],
   "source": [
    "data = open(\"grant-service-principal.json\", \"rb\").read()\n",
    "\n",
    "# Do the request PATCH\n",
    "response = requests.patch(url, headers=headers, data=data)\n",
    "\n",
    "# Check the return\n",
    "if response.status_code == 200:\n",
    "    print(\"Request sent with sucess!\")\n",
    "    print(\"Return:\")\n",
    "    print(response.text)\n",
    "else:\n",
    "    print(\"Request failed!\")\n",
    "    print(\"Status Code:\", response.status_code)\n",
    "    print(\"Error message:\", response.text)"
   ]
  },
  {
   "cell_type": "code",
   "execution_count": null,
   "metadata": {
    "application/vnd.databricks.v1+cell": {
     "cellMetadata": {
      "byteLimit": 2048000,
      "rowLimit": 10000
     },
     "inputWidgets": {},
     "nuid": "fdf6d619-15ea-4625-9d5e-65d13e6e8f26",
     "showTitle": false,
     "title": ""
    }
   },
   "outputs": [],
   "source": []
  }
 ],
 "metadata": {
  "application/vnd.databricks.v1+notebook": {
   "dashboards": [],
   "language": "python",
   "notebookMetadata": {
    "mostRecentlyExecutedCommandWithImplicitDF": {
     "commandId": 1205176374022722,
     "dataframes": [
      "_sqldf"
     ]
    },
    "pythonIndentUnit": 4
   },
   "notebookName": "Svr_Princ_script_grant_permission",
   "widgets": {}
  },
  "language_info": {
   "name": "python"
  }
 },
 "nbformat": 4,
 "nbformat_minor": 0
}
