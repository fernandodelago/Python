{
 "cells": [
  {
   "cell_type": "code",
   "execution_count": 3,
   "metadata": {},
   "outputs": [],
   "source": [
    "def download_arquivo(var_servidor,var_user,var_pass,var_arquivo,var_diretorio):\n",
    "    '''\n",
    "    Função para download de arquivo\n",
    "    Parâmetros de Entrada:\n",
    "    var_servidor - endereço do servidor (URL ou IP) - Tipo da variável: String\n",
    "    var_user - usuario de conexão - Tipo da variável: String\n",
    "    var_pass - senha de acesso - Tipo da variável: String\n",
    "    var_arquivo - nome do arquivo para download - Tipo da variável: String\n",
    "    var_diretorio - diretório a partir da raiz onde se encontra o arquivo (opcional). - Tipo da variável: String\n",
    "      |-> quando não informado diretório, será assumido que o arquivo está na raiz do servidor\n",
    "    Retorno da função:\n",
    "    return_code - código que informativa se função rodou OK\n",
    "      |-> 0 - rodou OK\n",
    "      |-> 1 - ocorreram erros\n",
    "    Dataframe com conteúdo do arquivo solicitado. - Tipo: pandas dataframe\n",
    "    '''\n",
    "    \n",
    "    import ftplib\n",
    "    import pandas as pd\n",
    "    import zipfile\n",
    "\n",
    "    # estabelecendo conexão\n",
    "    servidor = ftplib.FTP()\n",
    "    servidor.connect(var_servidor)\n",
    "    servidor.login(var_user,var_pass)\n",
    "    \n",
    "    # indo para o diretório do arquivo\n",
    "    if var_diretorio:\n",
    "        servidor.cwd(var_diretorio)\n",
    "    \n",
    "    #valida se vazio\n",
    "    if not var_arquivo:\n",
    "        print('# Arquivo não informado.')\n",
    "        return 1\n",
    "        \n",
    "    arquivo_dw = var_arquivo\n",
    "    servidor.pwd()\n",
    "    \n",
    "    getfile = open(arquivo_dw,'wb')\n",
    "    servidor.retrbinary('RETR ' + arquivo_dw,getfile.write)\n",
    "    getfile.close()\n",
    "    servidor.quit()\n",
    "    \n",
    "    #uncompress no arquivo\n",
    "    path_arquivo = '.'\n",
    "\n",
    "    with zipfile.ZipFile(path_arquivo + '\\\\' + arquivo_dw,'r') as zip_ref:\n",
    "        zip_ref.extractall(path_arquivo)\n",
    "    \n",
    "    #como premissa assumi que o nome do arquivo de saída do uncompress é igual do .zip, mas com extensão .csv\n",
    "    arquivo_extracted = arquivo_dw.replace('.zip','.csv')\n",
    "    df = pd.read_csv(arquivo_extracted)\n",
    "    \n",
    "    return 0,df"
   ]
  },
  {
   "cell_type": "code",
   "execution_count": null,
   "metadata": {},
   "outputs": [],
   "source": [
    "# exemplo de chamada\n",
    "download_arquivo('ftp.ubuntu.com','anonymous','','robots.txt','releases')"
   ]
  }
 ],
 "metadata": {
  "kernelspec": {
   "display_name": "Python 3",
   "language": "python",
   "name": "python3"
  },
  "language_info": {
   "codemirror_mode": {
    "name": "ipython",
    "version": 3
   },
   "file_extension": ".py",
   "mimetype": "text/x-python",
   "name": "python",
   "nbconvert_exporter": "python",
   "pygments_lexer": "ipython3",
   "version": "3.8.5"
  }
 },
 "nbformat": 4,
 "nbformat_minor": 4
}
