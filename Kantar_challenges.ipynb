{
  "nbformat": 4,
  "nbformat_minor": 0,
  "metadata": {
    "colab": {
      "provenance": []
    },
    "kernelspec": {
      "name": "python3",
      "display_name": "Python 3"
    }
  },
  "cells": [
    {
      "cell_type": "markdown",
      "source": [
        "# Challenge 1\n",
        "Below we've created a small DataFrame. You should use DataFrame API functions and UDFs to accomplish two tasks.\n",
        "\n",
        "You need to parse the State and city into two different columns.\n",
        "\n",
        "You need to get the number of days in between the start and end dates. You need to do this two ways.\n",
        "\n",
        "a) Firstly, you should use SparkSQL functions to get this date difference.\n",
        "\n",
        "b) Secondly, you should write a udf that gets the number of days between the end date and the start date."
      ],
      "metadata": {
        "id": "LHqwTUCvg1WP"
      }
    },
    {
      "cell_type": "code",
      "source": [
        "pip install Spark"
      ],
      "metadata": {
        "id": "__Nm3PpzI3wn",
        "outputId": "a2980560-d963-4ce8-9037-a1086fe06bab",
        "colab": {
          "base_uri": "https://localhost:8080/"
        }
      },
      "execution_count": null,
      "outputs": [
        {
          "output_type": "stream",
          "name": "stdout",
          "text": [
            "Looking in indexes: https://pypi.org/simple, https://us-python.pkg.dev/colab-wheels/public/simple/\n",
            "Collecting Spark\n",
            "  Downloading spark-0.2.1.tar.gz (41 kB)\n",
            "\u001b[?25l     \u001b[90m━━━━━━━━━━━━━━━━━━━━━━━━━━━━━━━━━━━━━━━━\u001b[0m \u001b[32m0.0/41.0 KB\u001b[0m \u001b[31m?\u001b[0m eta \u001b[36m-:--:--\u001b[0m\r\u001b[2K     \u001b[90m━━━━━━━━━━━━━━━━━━━━━━━━━━━━━━━━━━━━━━━━\u001b[0m \u001b[32m41.0/41.0 KB\u001b[0m \u001b[31m3.7 MB/s\u001b[0m eta \u001b[36m0:00:00\u001b[0m\n",
            "\u001b[?25h  Preparing metadata (setup.py) ... \u001b[?25l\u001b[?25hdone\n",
            "Building wheels for collected packages: Spark\n",
            "  Building wheel for Spark (setup.py) ... \u001b[?25l\u001b[?25hdone\n",
            "  Created wheel for Spark: filename=spark-0.2.1-py3-none-any.whl size=58760 sha256=8d3d7630ee6eecd58afc5810ddb2df8a5350bd1bfeb2981f21bd2924470acde7\n",
            "  Stored in directory: /root/.cache/pip/wheels/bc/0f/6c/b41528ca0fd4d46513185e90da91bc1c484bba6138641c5a62\n",
            "Successfully built Spark\n",
            "Installing collected packages: Spark\n",
            "Successfully installed Spark-0.2.1\n"
          ]
        }
      ]
    },
    {
      "cell_type": "code",
      "source": [
        "pip install pyspark"
      ],
      "metadata": {
        "id": "5PumzLC5JAt_",
        "outputId": "0ed33046-9c9f-44b7-9ae9-eb9e2d41bbed",
        "colab": {
          "base_uri": "https://localhost:8080/"
        }
      },
      "execution_count": null,
      "outputs": [
        {
          "output_type": "stream",
          "name": "stdout",
          "text": [
            "Looking in indexes: https://pypi.org/simple, https://us-python.pkg.dev/colab-wheels/public/simple/\n",
            "Collecting pyspark\n",
            "  Downloading pyspark-3.3.2.tar.gz (281.4 MB)\n",
            "\u001b[2K     \u001b[90m━━━━━━━━━━━━━━━━━━━━━━━━━━━━━━━━━━━━━━━\u001b[0m \u001b[32m281.4/281.4 MB\u001b[0m \u001b[31m2.7 MB/s\u001b[0m eta \u001b[36m0:00:00\u001b[0m\n",
            "\u001b[?25h  Preparing metadata (setup.py) ... \u001b[?25l\u001b[?25hdone\n",
            "Collecting py4j==0.10.9.5\n",
            "  Downloading py4j-0.10.9.5-py2.py3-none-any.whl (199 kB)\n",
            "\u001b[2K     \u001b[90m━━━━━━━━━━━━━━━━━━━━━━━━━━━━━━━━━━━━━━\u001b[0m \u001b[32m199.7/199.7 KB\u001b[0m \u001b[31m13.7 MB/s\u001b[0m eta \u001b[36m0:00:00\u001b[0m\n",
            "\u001b[?25hBuilding wheels for collected packages: pyspark\n",
            "  Building wheel for pyspark (setup.py) ... \u001b[?25l\u001b[?25hdone\n",
            "  Created wheel for pyspark: filename=pyspark-3.3.2-py2.py3-none-any.whl size=281824028 sha256=8e8530b68970e82e9bbe72c990626eb0f60535471403bf624749e829096fe034\n",
            "  Stored in directory: /root/.cache/pip/wheels/6c/e3/9b/0525ce8a69478916513509d43693511463c6468db0de237c86\n",
            "Successfully built pyspark\n",
            "Installing collected packages: py4j, pyspark\n",
            "  Attempting uninstall: py4j\n",
            "    Found existing installation: py4j 0.10.9.7\n",
            "    Uninstalling py4j-0.10.9.7:\n",
            "      Successfully uninstalled py4j-0.10.9.7\n",
            "Successfully installed py4j-0.10.9.5 pyspark-3.3.2\n"
          ]
        }
      ]
    },
    {
      "cell_type": "code",
      "source": [
        "from pyspark.sql import SparkSession\n",
        "from pyspark.sql.functions import split, regexp_extract"
      ],
      "metadata": {
        "id": "qKoiq_LFI1VC"
      },
      "execution_count": null,
      "outputs": []
    },
    {
      "cell_type": "code",
      "source": [
        "spark = SparkSession.builder.appName('test').master('local').enableHiveSupport().getOrCreate()"
      ],
      "metadata": {
        "id": "aseKl1BhJyHZ"
      },
      "execution_count": null,
      "outputs": []
    },
    {
      "cell_type": "markdown",
      "source": [
        "\"id|end_date|start_date|location\n",
        "1|2015-10-14 00:00:00|2015-09-14 00:00:00|CA-SF\n",
        "2|2015-10-15 01:00:20|2015-08-14 00:00:00|CA-SD\n",
        "3|2015-10-16 02:30:00|2015-01-14 00:00:00|NY-NY\n",
        "4|2015-10-17 03:00:20|2015-02-14 00:00:00|NY-NY\n",
        "5|2015-10-18 04:30:00|2014-04-14 00:00:00|CA-SD\n",
        "\""
      ],
      "metadata": {
        "id": "wRIvoT2BhBzt"
      }
    },
    {
      "cell_type": "code",
      "source": [
        "# cria um DataFrame com algumas informações\n",
        "data = [(1,'2015-10-14 00:00:00','2015-09-14 00:00:00','CA-SF'),\n",
        "        (2,'2015-10-15 01:00:20','2015-08-14 00:00:00','CA-SD'),\n",
        "        (3,'2015-10-16 02:30:00','2015-01-14 00:00:00','NY-NY'),\n",
        "        (4,'2015-10-17 03:00:20','2015-02-14 00:00:00','NY-NY'),\n",
        "        (5,'2015-10-18 04:30:00','2014-04-14 00:00:00','CA-SD')\n",
        "        ]\n",
        "df = spark.createDataFrame(data, ['id','end_date','start_date','location'])\n",
        "\n",
        "# escreve o conteúdo do DataFrame em um arquivo texto com campos separados por vírgula\n",
        "df.write.csv(\"sample_data/fake_log0.csv\", sep=\"|\", header=True)"
      ],
      "metadata": {
        "id": "y3RezSPyhPFo"
      },
      "execution_count": null,
      "outputs": []
    },
    {
      "cell_type": "code",
      "source": [
        "%%sh\n",
        "mv sample_data/fake_log0.csv sample_data/fake_log\n",
        "mv sample_data/fake_log/fake_log0.csv sample_data/fake_log0.csv \n",
        "pwd\n",
        "ls -la"
      ],
      "metadata": {
        "id": "7fbamoY2mbNa",
        "outputId": "442f0c85-c64e-4638-b66d-7470a67884c4",
        "colab": {
          "base_uri": "https://localhost:8080/"
        }
      },
      "execution_count": null,
      "outputs": [
        {
          "output_type": "stream",
          "name": "stdout",
          "text": [
            "total 55520\n",
            "drwxr-xr-x 1 root root     4096 Mar 31 19:08 .\n",
            "drwxr-xr-x 1 root root     4096 Mar 31 19:07 ..\n",
            "-rwxr-xr-x 1 root root     1697 Jan  1  2000 anscombe.json\n",
            "-rw-r--r-- 1 root root   301141 Mar 30 13:53 california_housing_test.csv\n",
            "-rw-r--r-- 1 root root  1706430 Mar 30 13:53 california_housing_train.csv\n",
            "drwxr-xr-x 2 root root     4096 Mar 31 19:10 fake_log0.csv\n",
            "-rw-r--r-- 1 root root 18289443 Mar 30 13:53 mnist_test.csv\n",
            "-rw-r--r-- 1 root root 36523880 Mar 30 13:53 mnist_train_small.csv\n",
            "-rwxr-xr-x 1 root root      930 Jan  1  2000 README.md\n"
          ]
        },
        {
          "output_type": "stream",
          "name": "stderr",
          "text": [
            "mv: cannot stat 'sample_data/fake_log0.csv/*.csv': No such file or directory\n"
          ]
        }
      ]
    },
    {
      "cell_type": "code",
      "source": [
        "cat fake_log1.log"
      ],
      "metadata": {
        "colab": {
          "base_uri": "https://localhost:8080/"
        },
        "id": "sAz7nalAU23k",
        "outputId": "9452571a-3462-4167-8793-06c2389c7d2e"
      },
      "execution_count": null,
      "outputs": [
        {
          "output_type": "stream",
          "name": "stdout",
          "text": [
            "66.249.69.97 - - [24/Sep/2014:22:25:44 +0000] \"GET /071300/242153 HTTP/1.1\" 404 514 \"-\" \"Mozilla/5.0 (compatible; Googlebot/2.1; +http://www.google.com/bot.html)\"\r\n",
            "71.19.157.174 - - [24/Sep/2014:22:26:12 +0000] \"GET /error HTTP/1.1\" 404 505 \"-\" \"Mozilla/5.0 (X11; Linux x86_64) AppleWebKit/537.36 (KHTML, like Gecko) Chrome/37.0.2062.94 Safari/537.36\"\r\n",
            "71.19.157.174 - - [24/Sep/2014:22:26:12 +0000] \"GET /favicon.ico HTTP/1.1\" 200 1713 \"-\" \"Mozilla/5.0 (X11; Linux x86_64) AppleWebKit/537.36 (KHTML, like Gecko) Chrome/37.0.2062.94 Safari/537.36\"\r\n",
            "71.19.157.174 - - [24/Sep/2014:22:26:37 +0000] \"GET / HTTP/1.1\" 200 18785 \"-\" \"Mozilla/5.0 (X11; Linux x86_64) AppleWebKit/537.36 (KHTML, like Gecko) Chrome/37.0.2062.94 Safari/537.36\"\r\n",
            "71.19.157.174 - - [24/Sep/2014:22:26:37 +0000] \"GET /jobmineimg.php?q=m HTTP/1.1\" 200 222 \"http://www.holdenkarau.com/\" \"Mozilla/5.0 (X11; Linux x86_64) AppleWebKit/537.36 (KHTML, like Gecko) Chrome/37.0.2062.94 Safari/537.36\""
          ]
        }
      ]
    },
    {
      "cell_type": "code",
      "source": [
        "%%sh\n",
        "cd sample_data\n",
        "ls -la "
      ],
      "metadata": {
        "colab": {
          "base_uri": "https://localhost:8080/"
        },
        "id": "FHU__niUJgeF",
        "outputId": "f338c374-e05d-456a-be4d-838d4e889c2f"
      },
      "execution_count": null,
      "outputs": [
        {
          "output_type": "stream",
          "name": "stdout",
          "text": [
            "total 55524\n",
            "drwxr-xr-x 1 root root     4096 Mar 31 19:16 .\n",
            "drwxr-xr-x 1 root root     4096 Mar 31 19:07 ..\n",
            "-rwxr-xr-x 1 root root     1697 Jan  1  2000 anscombe.json\n",
            "-rw-r--r-- 1 root root   301141 Mar 30 13:53 california_housing_test.csv\n",
            "-rw-r--r-- 1 root root  1706430 Mar 30 13:53 california_housing_train.csv\n",
            "drwxr-xr-x 2 root root     4096 Mar 31 19:16 fake_log\n",
            "-rw-r--r-- 1 root root      272 Mar 31 19:08 fake_log0.csv\n",
            "-rw-r--r-- 1 root root 18289443 Mar 30 13:53 mnist_test.csv\n",
            "-rw-r--r-- 1 root root 36523880 Mar 30 13:53 mnist_train_small.csv\n",
            "-rwxr-xr-x 1 root root      930 Jan  1  2000 README.md\n"
          ]
        }
      ]
    },
    {
      "cell_type": "markdown",
      "source": [
        "## 1. Parse the State and city into two different columns"
      ],
      "metadata": {
        "id": "1xhy50x5ngMN"
      }
    },
    {
      "cell_type": "code",
      "source": [
        "df = spark.read.format(\"csv\").options(header='true', delimiter = '|').load(\"sample_data/fake_log0.csv\")"
      ],
      "metadata": {
        "id": "iFK6CmMvnvyk"
      },
      "execution_count": null,
      "outputs": []
    },
    {
      "cell_type": "code",
      "source": [
        "df.createOrReplaceTempView('tpv_df')"
      ],
      "metadata": {
        "id": "3udxBamVnogn"
      },
      "execution_count": null,
      "outputs": []
    },
    {
      "cell_type": "code",
      "source": [
        "spark.sql('''\n",
        "select location\n",
        "      ,substr(location,1,instr(location,\"-\") -1) as State\n",
        "      ,substr(location,instr(location,'-')+1,length(location) ) as City\n",
        "from tpv_df\n",
        "''').show(truncate=False)"
      ],
      "metadata": {
        "colab": {
          "base_uri": "https://localhost:8080/"
        },
        "id": "371Xr7X-MR-p",
        "outputId": "0f372a63-d84f-4324-aff6-1f8644a28213"
      },
      "execution_count": null,
      "outputs": [
        {
          "output_type": "stream",
          "name": "stdout",
          "text": [
            "+--------+-----+----+\n",
            "|location|State|City|\n",
            "+--------+-----+----+\n",
            "|CA-SF   |CA   |SF  |\n",
            "|CA-SD   |CA   |SD  |\n",
            "|NY-NY   |NY   |NY  |\n",
            "|NY-NY   |NY   |NY  |\n",
            "|CA-SD   |CA   |SD  |\n",
            "+--------+-----+----+\n",
            "\n"
          ]
        }
      ]
    },
    {
      "cell_type": "markdown",
      "source": [
        "# Challenge 2\n",
        "\n",
        "The following is log data represents data colelcted from a web server application."
      ],
      "metadata": {
        "id": "3ClZZcf-gmZm"
      }
    },
    {
      "cell_type": "markdown",
      "source": [
        "## 1. Parsing Logs\n",
        "Parse the logs in to a DataFrame/Spark SQL table that can be queried.\n",
        "\n",
        "Schema to use is as follow:\n",
        "\n",
        "ip: String = 66.249.69.97\n",
        "\n",
        "date: String = 24/Sep/2014\n",
        "\n",
        "methodType: String = GET\n",
        "\n",
        "uri: String = /071300/242153\n",
        "\n",
        "protocol: String = HTTP/1.1\n",
        "\n",
        "response: String = 404\n",
        "\n",
        "size: String = 514\n",
        "\n",
        "agent: String = Mozilla/5.0 (compatible; Googlebot/2.1; +http://www.google.com/bot.html)"
      ],
      "metadata": {
        "id": "QqL0g8fYK5b5"
      }
    },
    {
      "cell_type": "code",
      "source": [
        "# Lendo o arquivo em um DataFrame\n",
        "log_lines = spark.read.csv(\"fake_log1.log\",inferSchema=True)\n",
        "log_lines.show(truncate=False)"
      ],
      "metadata": {
        "id": "-v5_OXEELHve",
        "outputId": "c5009680-d123-4f47-a884-57a3f6f6646c",
        "colab": {
          "base_uri": "https://localhost:8080/"
        }
      },
      "execution_count": null,
      "outputs": [
        {
          "output_type": "stream",
          "name": "stdout",
          "text": [
            "+----------------------------------------------------------------------------------------------------------------------------------------------------------------------------------+\n",
            "|_c0                                                                                                                                                                               |\n",
            "+----------------------------------------------------------------------------------------------------------------------------------------------------------------------------------+\n",
            "|66.249.69.97 - - [24/Sep/2014:22:25:44 +0000] \"GET /071300/242153 HTTP/1.1\" 404 514 \"-\" \"Mozilla/5.0 (compatible; Googlebot/2.1; +http://www.google.com/bot.html)\"                |\n",
            "|71.19.157.174 - - [24/Sep/2014:22:26:12 +0000] \"GET /error HTTP/1.1\" 404 505 \"-\" \"Mozilla/5.0 (X11; Linux x86_64) AppleWebKit/537.36 (KHTML                                       |\n",
            "|71.19.157.174 - - [24/Sep/2014:22:26:12 +0000] \"GET /favicon.ico HTTP/1.1\" 200 1713 \"-\" \"Mozilla/5.0 (X11; Linux x86_64) AppleWebKit/537.36 (KHTML                                |\n",
            "|71.19.157.174 - - [24/Sep/2014:22:26:37 +0000] \"GET / HTTP/1.1\" 200 18785 \"-\" \"Mozilla/5.0 (X11; Linux x86_64) AppleWebKit/537.36 (KHTML                                          |\n",
            "|71.19.157.174 - - [24/Sep/2014:22:26:37 +0000] \"GET /jobmineimg.php?q=m HTTP/1.1\" 200 222 \"http://www.holdenkarau.com/\" \"Mozilla/5.0 (X11; Linux x86_64) AppleWebKit/537.36 (KHTML|\n",
            "+----------------------------------------------------------------------------------------------------------------------------------------------------------------------------------+\n",
            "\n"
          ]
        }
      ]
    },
    {
      "cell_type": "code",
      "source": [
        "# criando TempView\n",
        "log_lines.createOrReplaceTempView('tpv_log')"
      ],
      "metadata": {
        "id": "UpVanMPXLfnf",
        "colab": {
          "base_uri": "https://localhost:8080/"
        },
        "outputId": "b3fd305e-4332-4165-ebce-511a837ede22"
      },
      "execution_count": null,
      "outputs": [
        {
          "output_type": "stream",
          "name": "stdout",
          "text": [
            "+----------------------------------------------------------------------------------------------------------------------------------------------------------------------------------+\n",
            "|_c0                                                                                                                                                                               |\n",
            "+----------------------------------------------------------------------------------------------------------------------------------------------------------------------------------+\n",
            "|66.249.69.97 - - [24/Sep/2014:22:25:44 +0000] \"GET /071300/242153 HTTP/1.1\" 404 514 \"-\" \"Mozilla/5.0 (compatible; Googlebot/2.1; +http://www.google.com/bot.html)\"                |\n",
            "|71.19.157.174 - - [24/Sep/2014:22:26:12 +0000] \"GET /error HTTP/1.1\" 404 505 \"-\" \"Mozilla/5.0 (X11; Linux x86_64) AppleWebKit/537.36 (KHTML                                       |\n",
            "|71.19.157.174 - - [24/Sep/2014:22:26:12 +0000] \"GET /favicon.ico HTTP/1.1\" 200 1713 \"-\" \"Mozilla/5.0 (X11; Linux x86_64) AppleWebKit/537.36 (KHTML                                |\n",
            "|71.19.157.174 - - [24/Sep/2014:22:26:37 +0000] \"GET / HTTP/1.1\" 200 18785 \"-\" \"Mozilla/5.0 (X11; Linux x86_64) AppleWebKit/537.36 (KHTML                                          |\n",
            "|71.19.157.174 - - [24/Sep/2014:22:26:37 +0000] \"GET /jobmineimg.php?q=m HTTP/1.1\" 200 222 \"http://www.holdenkarau.com/\" \"Mozilla/5.0 (X11; Linux x86_64) AppleWebKit/537.36 (KHTML|\n",
            "+----------------------------------------------------------------------------------------------------------------------------------------------------------------------------------+\n",
            "\n"
          ]
        }
      ]
    },
    {
      "cell_type": "code",
      "source": [
        "spark.sql(\"\"\"\n",
        "select substr(_c0,1,instr(_c0,\"-\") -2) as IP\n",
        "      ,substr(_c0, instr(_c0,\"[\")+1,11) as date\n",
        "      ,instr(_c0,'\"') as tt\n",
        "      ,split(substr(_c0,instr(_c0,'\"')),\" \") as full_text\n",
        "      ,_c0\n",
        "from tpv_log\n",
        "\"\"\").show(truncate=False)"
      ],
      "metadata": {
        "colab": {
          "base_uri": "https://localhost:8080/"
        },
        "id": "GZRNYf-slMHV",
        "outputId": "15206cea-4bff-4459-b0e5-aa89f94aee71"
      },
      "execution_count": null,
      "outputs": [
        {
          "output_type": "stream",
          "name": "stdout",
          "text": [
            "+-------------+-----------+---+------------------------------------------------------------------------------------------------------------------------------------------------+----------------------------------------------------------------------------------------------------------------------------------------------------------------------------------+\n",
            "|IP           |date       |tt |full_text                                                                                                                                       |_c0                                                                                                                                                                               |\n",
            "+-------------+-----------+---+------------------------------------------------------------------------------------------------------------------------------------------------+----------------------------------------------------------------------------------------------------------------------------------------------------------------------------------+\n",
            "|66.249.69.97 |24/Sep/2014|47 |[\"GET, /071300/242153, HTTP/1.1\", 404, 514, \"-\", \"Mozilla/5.0, (compatible;, Googlebot/2.1;, +http://www.google.com/bot.html)\"]                 |66.249.69.97 - - [24/Sep/2014:22:25:44 +0000] \"GET /071300/242153 HTTP/1.1\" 404 514 \"-\" \"Mozilla/5.0 (compatible; Googlebot/2.1; +http://www.google.com/bot.html)\"                |\n",
            "|71.19.157.174|24/Sep/2014|48 |[\"GET, /error, HTTP/1.1\", 404, 505, \"-\", \"Mozilla/5.0, (X11;, Linux, x86_64), AppleWebKit/537.36, (KHTML]                                       |71.19.157.174 - - [24/Sep/2014:22:26:12 +0000] \"GET /error HTTP/1.1\" 404 505 \"-\" \"Mozilla/5.0 (X11; Linux x86_64) AppleWebKit/537.36 (KHTML                                       |\n",
            "|71.19.157.174|24/Sep/2014|48 |[\"GET, /favicon.ico, HTTP/1.1\", 200, 1713, \"-\", \"Mozilla/5.0, (X11;, Linux, x86_64), AppleWebKit/537.36, (KHTML]                                |71.19.157.174 - - [24/Sep/2014:22:26:12 +0000] \"GET /favicon.ico HTTP/1.1\" 200 1713 \"-\" \"Mozilla/5.0 (X11; Linux x86_64) AppleWebKit/537.36 (KHTML                                |\n",
            "|71.19.157.174|24/Sep/2014|48 |[\"GET, /, HTTP/1.1\", 200, 18785, \"-\", \"Mozilla/5.0, (X11;, Linux, x86_64), AppleWebKit/537.36, (KHTML]                                          |71.19.157.174 - - [24/Sep/2014:22:26:37 +0000] \"GET / HTTP/1.1\" 200 18785 \"-\" \"Mozilla/5.0 (X11; Linux x86_64) AppleWebKit/537.36 (KHTML                                          |\n",
            "|71.19.157.174|24/Sep/2014|48 |[\"GET, /jobmineimg.php?q=m, HTTP/1.1\", 200, 222, \"http://www.holdenkarau.com/\", \"Mozilla/5.0, (X11;, Linux, x86_64), AppleWebKit/537.36, (KHTML]|71.19.157.174 - - [24/Sep/2014:22:26:37 +0000] \"GET /jobmineimg.php?q=m HTTP/1.1\" 200 222 \"http://www.holdenkarau.com/\" \"Mozilla/5.0 (X11; Linux x86_64) AppleWebKit/537.36 (KHTML|\n",
            "+-------------+-----------+---+------------------------------------------------------------------------------------------------------------------------------------------------+----------------------------------------------------------------------------------------------------------------------------------------------------------------------------------+\n",
            "\n"
          ]
        }
      ]
    },
    {
      "cell_type": "code",
      "source": [
        "# exibindo dados\n",
        "spark.sql('''\n",
        "select IP\n",
        "      ,Date\n",
        "      ,replace(full_text[0],'\"','') as Method_Type \n",
        "      ,full_text[1] as uri\n",
        "      ,replace(full_text[2],'\"','') as Protocol\n",
        "      ,full_text[3] as Response\n",
        "      ,full_text[4] as Size\n",
        "      ,replace(full_text[6],'\"','') as Agent\n",
        "from (\n",
        "select substr(_c0,1,instr(_c0,\"-\") -2) as IP\n",
        "      ,substr(_c0, instr(_c0,\"[\")+1,11) as date\n",
        "      ,instr(_c0,'\"') as tt\n",
        "      ,split(substr(_c0,instr(_c0,'\"')),\" \") as full_text\n",
        "      ,_c0\n",
        "from tpv_log) log\n",
        "''').show(truncate=False)"
      ],
      "metadata": {
        "id": "LyXgh3SiMECd",
        "outputId": "dcf68ea5-94b2-456d-a878-dffe4f89e41b",
        "colab": {
          "base_uri": "https://localhost:8080/"
        }
      },
      "execution_count": null,
      "outputs": [
        {
          "output_type": "stream",
          "name": "stdout",
          "text": [
            "+-------------+-----------+-----------+-------------------+--------+--------+-----+-----------+\n",
            "|IP           |Date       |Method_Type|uri                |Protocol|Response|Size |Agent      |\n",
            "+-------------+-----------+-----------+-------------------+--------+--------+-----+-----------+\n",
            "|66.249.69.97 |24/Sep/2014|GET        |/071300/242153     |HTTP/1.1|404     |514  |Mozilla/5.0|\n",
            "|71.19.157.174|24/Sep/2014|GET        |/error             |HTTP/1.1|404     |505  |Mozilla/5.0|\n",
            "|71.19.157.174|24/Sep/2014|GET        |/favicon.ico       |HTTP/1.1|200     |1713 |Mozilla/5.0|\n",
            "|71.19.157.174|24/Sep/2014|GET        |/                  |HTTP/1.1|200     |18785|Mozilla/5.0|\n",
            "|71.19.157.174|24/Sep/2014|GET        |/jobmineimg.php?q=m|HTTP/1.1|200     |222  |Mozilla/5.0|\n",
            "+-------------+-----------+-----------+-------------------+--------+--------+-----+-----------+\n",
            "\n"
          ]
        }
      ]
    },
    {
      "cell_type": "markdown",
      "source": [
        "## 2. Analysis\n",
        "\n",
        "Generate some insights fromg the log data, e.g.: Get the most visited pages."
      ],
      "metadata": {
        "id": "iVzNDyQ1gC8G"
      }
    },
    {
      "cell_type": "markdown",
      "source": [
        "Sorry guys, my profile is Data Engineer **not** Data Analyst or Data Scientist. I guess you need to count the total of \"response\" from each \"uri\" value found. \n",
        "If the highest value founded in a \"uri\" with \"responde\" value was \"404\", you have a problem probably. \"404\" regarding http codes means \"not found\"."
      ],
      "metadata": {
        "id": "TgwYXOnCosEm"
      }
    },
    {
      "cell_type": "markdown",
      "source": [
        "# Challenge 3\n",
        "\n",
        "Build an SCD Type 2 table based on the following data"
      ],
      "metadata": {
        "id": "FnG4UsNzgKOT"
      }
    },
    {
      "cell_type": "markdown",
      "source": [
        "___"
      ],
      "metadata": {
        "id": "_S2RiKScgYg6"
      }
    },
    {
      "cell_type": "markdown",
      "source": [
        "Conteúdo dos arquivos"
      ],
      "metadata": {
        "id": "jBhzclvigT3R"
      }
    },
    {
      "cell_type": "markdown",
      "source": [
        "File 1 [\n",
        "{\"message_id\": 1, \"name\": \"Johnsie Nunez\", \"email\": \"civic1907@example.org\", \"date_of_birth\": \"2009-01-15\", \"city\": \"Durham\"},\n",
        "{\"message_id\": 2, \"name\": \"Hong Hays\", \"email\": \"spokesman1981@example.org\", \"date_of_birth\": \"2019-01-25\", \"city\": \"Oxford\"},\n",
        "{\"message_id\": 3, \"name\": \"Broderick Flynn\", \"email\": \"tales1891@example.org\", \"date_of_birth\": \"2001-02-06\", \"city\": \"Hastings\"},\n",
        "{\"message_id\": 4, \"name\": \"Virgil Hooper\", \"email\": \"boundaries2076@example.org\", \"date_of_birth\": \"2009-12-27\", \"city\": \"Nottingham\"},\n",
        "{\"message_id\": 5, \"name\": \"Delmar Richmond\", \"email\": \"crawford1926@example.org\", \"date_of_birth\": \"2005-11-07\", \"city\": \"Durham\"},\n",
        "{\"message_id\": 6, \"name\": \"Elin Hahn\", \"email\": \"folder1831@example.org\", \"date_of_birth\": \"2001-08-02\", \"city\": \"Liverpool\"},\n",
        "{\"message_id\": 7, \"name\": \"Latrina Kent\", \"email\": \"blank1874@example.org\", \"date_of_birth\": \"2002-05-01\", \"city\": \"Cambridge\"}\n",
        "]\n",
        "\n",
        "\n",
        "File 2\n",
        "[\n",
        "{\"message_id\": 1, \"name\": \"Michael Scott\", \"email\": \"mscott@example.org\", \"date_of_birth\": \"2011-01-15\", \"city\": \"Durham\"},\n",
        "{\"message_id\": 8, \"name\": \"Peter Parker\", \"email\": \"thespider123@example.org\", \"date_of_birth\": \"2007-01-21\", \"city\": \"Liverpool\"},\n",
        "]"
      ],
      "metadata": {
        "id": "FeuCcLwegWl8"
      }
    },
    {
      "cell_type": "markdown",
      "source": [
        "Specifications\n",
        "\n",
        "Use message_id as the identifier of data changes\n",
        "\n",
        "Use date_of_birth (asc order) as the value to expire data changes\n",
        "\n",
        "Latest data changes (that are not expired) should be Null for experiaton date"
      ],
      "metadata": {
        "id": "n2heEyU2gb2U"
      }
    },
    {
      "cell_type": "code",
      "source": [
        "%%sql\n",
        "CREATE TABLE if not exists my_schema.tbl_contacts\n",
        "(id     integer null\n",
        ",name   nvarchar(max) null\n",
        ",email  nvarchar(max) null\n",
        ",date_of_birth  date null\n",
        ",city   nvarchar(max) null\n",
        ",date_creation  date \n",
        ",date_end       date null\n",
        ",is_active      boolean\n",
        ");\n",
        "CREATE NONCLUSTERED INDEX idx_tbl_contacts_id (\n",
        "    ON my_schema.tbl_contacts (id));"
      ],
      "metadata": {
        "id": "djr_KQlvgfoM"
      },
      "execution_count": null,
      "outputs": []
    }
  ]
}