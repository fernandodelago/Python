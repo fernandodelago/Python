{
 "cells": [
  {
   "cell_type": "code",
   "execution_count": 66,
   "metadata": {},
   "outputs": [],
   "source": [
    "from pyspark.sql.types import *\n",
    "from pyspark.sql import *\n",
    "from pyspark import SQLContext, HiveContext, SparkContext\n",
    "import os\n",
    "import sys\n",
    "import argparse\n",
    "import logging\n",
    "import datetime"
   ]
  },
  {
   "cell_type": "markdown",
   "metadata": {},
   "source": [
    "## Definições para o contexto do Spark"
   ]
  },
  {
   "cell_type": "code",
   "execution_count": 54,
   "metadata": {},
   "outputs": [],
   "source": [
    "#sc.stop()"
   ]
  },
  {
   "cell_type": "code",
   "execution_count": 51,
   "metadata": {},
   "outputs": [],
   "source": [
    "sc = SparkContext()"
   ]
  },
  {
   "cell_type": "code",
   "execution_count": 52,
   "metadata": {},
   "outputs": [],
   "source": [
    "sqlContext = SQLContext(sc)"
   ]
  },
  {
   "cell_type": "code",
   "execution_count": 53,
   "metadata": {},
   "outputs": [],
   "source": [
    "sqlContext.setConf('spark.sql.parquet.compression.codec','snappy')"
   ]
  },
  {
   "cell_type": "code",
   "execution_count": 57,
   "metadata": {},
   "outputs": [],
   "source": [
    "hive_context = HiveContext(sc)"
   ]
  },
  {
   "cell_type": "code",
   "execution_count": 55,
   "metadata": {},
   "outputs": [],
   "source": [
    "hive_database = \"vc\""
   ]
  },
  {
   "cell_type": "code",
   "execution_count": 23,
   "metadata": {},
   "outputs": [],
   "source": [
    "#rdd = sc.parallelize(range(1000))"
   ]
  },
  {
   "cell_type": "code",
   "execution_count": 24,
   "metadata": {},
   "outputs": [],
   "source": [
    "#rdd.takeSample(False,5)"
   ]
  },
  {
   "cell_type": "code",
   "execution_count": 5,
   "metadata": {},
   "outputs": [],
   "source": [
    "#logging tem 5 niveis de erro\n",
    "#debug info warning error critical"
   ]
  },
  {
   "cell_type": "markdown",
   "metadata": {},
   "source": [
    "## Definições de mensagem de erro"
   ]
  },
  {
   "cell_type": "code",
   "execution_count": 62,
   "metadata": {},
   "outputs": [],
   "source": [
    "logger = logging.getLogger(\"\")"
   ]
  },
  {
   "cell_type": "code",
   "execution_count": 29,
   "metadata": {},
   "outputs": [],
   "source": [
    "logging.basicConfig(level=logging.INFO, format='%(asctime)s: BDF_INGESTION %(message)s')"
   ]
  },
  {
   "cell_type": "code",
   "execution_count": 30,
   "metadata": {},
   "outputs": [],
   "source": [
    "def setError(msg):\n",
    "    logger.error(msg)\n",
    "    sys.exit(1)"
   ]
  },
  {
   "cell_type": "code",
   "execution_count": 63,
   "metadata": {},
   "outputs": [],
   "source": [
    "def setInfo(msg):\n",
    "    logger.info(msg)"
   ]
  },
  {
   "cell_type": "code",
   "execution_count": 10,
   "metadata": {},
   "outputs": [],
   "source": [
    "logging.debug('Este é um erro de debug')\n",
    "logging.debug('Este é um erro de debug 11111')"
   ]
  },
  {
   "cell_type": "markdown",
   "metadata": {},
   "source": [
    "# Funções principais"
   ]
  },
  {
   "cell_type": "code",
   "execution_count": 64,
   "metadata": {},
   "outputs": [],
   "source": [
    "smart_table_name = 'movto_valido'\n",
    "setInfo(\"## Parametro recebido: {}\".format(smart_table_name))"
   ]
  },
  {
   "cell_type": "code",
   "execution_count": 147,
   "metadata": {},
   "outputs": [],
   "source": [
    "# Valida data de carga das bases\n",
    "# O retorno da função será:\n",
    "#  Lista 0 - Status \n",
    "#    OK  - Data da Carga igual a esperada (dia -1d)\n",
    "#    NOK - Data da Carga diferente da esperada (dia -1d)\n",
    "#  Lista 1 - nome da tabela\n",
    "#  Lista 2 - Data da Carga encontrada na base\n",
    "#    Preencher somente em caso de 'NOK'\n",
    "def valida_dta_referencia():\n",
    "    fl_data_ref = [[],[],[]]\n",
    "    setInfo(\"## Validação de data de referencia\")\n",
    "    dt_ref_t254 = 0\n",
    "    fl_data_ref[0].append('NOK')\n",
    "    return fl_data_ref\n",
    "    "
   ]
  },
  {
   "cell_type": "code",
   "execution_count": 65,
   "metadata": {},
   "outputs": [],
   "source": [
    "# Movimentos Validos\n",
    "# Essa base é gerada através da tabela vcdt254.\n",
    "# A tabela se encontra na database \"vc\"\n",
    "def movto_valido():\n",
    "    setInfo(\"## Fase 00 - Valida data das cargas das bases\")\n",
    "    setInfo(\"## Fase 01 - Seleciona publico < 700.00 ##\")\n",
    "    schema_mvto_validos = StructType([\n",
    "        StructField(\"nr_prop\",         StringType(),True),\n",
    "        StructField(\"nr_parc_prop\",    StringType(),True),\n",
    "        StructField(\"nr_apol\",         StringType(),True),\n",
    "        StructField(\"nr_cerf_segr\",    StringType(),True),\n",
    "        StructField(\"cd_segd\",         StringType(),True),\n",
    "        StructField(\"nr_sequ_movi\",    StringType(),True),\n",
    "        StructField(\"cd_prod_segd\",    StringType(),True),\n",
    "        StructField(\"cd_subp_segd\",    StringType(),True),\n",
    "        StructField(\"dt_oper_cntb\",    StringType(),True),\n",
    "        StructField(\"dt_gera_cntb\",    StringType(),True),\n",
    "        StructField(\"cd_even_cntb\",    StringType(),True),\n",
    "        StructField(\"cd_idef_oper\",    StringType(),True),\n",
    "        StructField(\"nr_cnta_cntb\",    StringType(),True),\n",
    "        StructField(\"tp_cntb\",         StringType(),True),\n",
    "        StructField(\"vl_lanc_cntb\",    DecimalType(17,2),True),\n",
    "        StructField(\"tx_info_extt_ha\", StringType(),True),\n",
    "        StructField(\"dh_ulti_atlz\",    TimestampType(),True),\n",
    "        StructField(\"dat_ref_carga\",   StringType(),True)\n",
    "    ])\n",
    "    \n",
    "    df_fase01 = hive_context.createDataFrame(sc.emptyRDD(),schema=schema_movto_validos)\n",
    "    \n",
    "    df_fase01 = SQLContext.sql(\"\"\"select  \n",
    "                                     nr_prop\n",
    "                                    ,nr_parc_prop\n",
    "                                    ,nr_apol\n",
    "                                    ,nr_cerf_segr\n",
    "                                    ,cd_segd\n",
    "                                    ,nr_sequ_movi  \n",
    "                                    ,cd_prod_segd  \n",
    "                                    ,cd_subp_segd  \n",
    "                                    ,dt_oper_cntb  \n",
    "                                    ,dt_gera_cntb  \n",
    "                                    ,cd_even_cntb  \n",
    "                                    ,cd_idef_oper  \n",
    "                                    ,nr_cnta_cntb  \n",
    "                                    ,tp_cntb\n",
    "                                    ,vl_lanc_cntb\n",
    "                                    ,tx_info_extt_ha\n",
    "                                    ,dh_ulti_atlz\n",
    "                                    ,dat_ref_carga\n",
    "                                  from vcdt254\"\"\".format(db=hive_database))\n",
    "    df_fase01.cache()\n",
    "    \n",
    "    print(\"## Fase 02 - Identifica contas 300.000 com saldo igual a zero ##\")\n",
    "    print(\"## Fase 03 - Retira do publico da Fase 01 o publico encontrado na Fase 02 ##\")\n",
    "    print(\"## Fase 04 - Formata smart table analitica de movimentos validos com data de geracao\")"
   ]
  },
  {
   "cell_type": "code",
   "execution_count": 14,
   "metadata": {},
   "outputs": [],
   "source": [
    "def comissoes():\n",
    "    print(\"##Entrou em comissoes\")"
   ]
  },
  {
   "cell_type": "code",
   "execution_count": 15,
   "metadata": {},
   "outputs": [],
   "source": [
    "def opcao_03():\n",
    "    print(\"##Entrou na opcao 03\")"
   ]
  },
  {
   "cell_type": "markdown",
   "metadata": {},
   "source": [
    "## Aqui sera a funcao principal"
   ]
  },
  {
   "cell_type": "code",
   "execution_count": 168,
   "metadata": {},
   "outputs": [
    {
     "name": "stdout",
     "output_type": "stream",
     "text": [
      "15\n",
      "2019-05-15\n"
     ]
    }
   ],
   "source": [
    "dt_tmp = datetime.datetime.now()\n",
    "dt_base_carga = dt_tmp.strftime(\"%Y\") + \"-\" + dt_tmp.strftime(\"%m\") + \"-\" + dt_tmp.strftime(\"%d\")\n",
    "dia = dt_tmp.strftime(\"%d\")\n",
    "print(dia)\n",
    "print(dt_base_carga)"
   ]
  },
  {
   "cell_type": "code",
   "execution_count": 164,
   "metadata": {},
   "outputs": [
    {
     "name": "stdout",
     "output_type": "stream",
     "text": [
      "2019-05-15\n"
     ]
    },
    {
     "ename": "SystemExit",
     "evalue": "1",
     "output_type": "error",
     "traceback": [
      "An exception has occurred, use %tb to see the full traceback.\n",
      "\u001b[0;31mSystemExit\u001b[0m\u001b[0;31m:\u001b[0m 1\n"
     ]
    },
    {
     "name": "stderr",
     "output_type": "stream",
     "text": [
      "/opt/conda/lib/python3.7/site-packages/IPython/core/interactiveshell.py:3299: UserWarning: To exit: use 'exit', 'quit', or Ctrl-D.\n",
      "  warn(\"To exit: use 'exit', 'quit', or Ctrl-D.\", stacklevel=1)\n"
     ]
    }
   ],
   "source": [
    "#Formata data no padrao do hive\n",
    "dt_tmp = datetime.datetime.now()\n",
    "dt_base_carga = dt_tmp.strftime(\"%Y\") + \"-\" + dt_tmp.strftime(\"%m\") + \"-\" + dt_tmp.strftime(\"%d\")\n",
    "print(dt_base_carga)\n",
    "fl_data_ref = valida_dta_referencia()\n",
    "\n",
    "if 'NOK' in fl_data_ref[0]:\n",
    "    setInfo(\"## Bases Origem com datas de carga diferente!!! ##\")\n",
    "    setInfo(\"## Data base de carga: {} ##\".format(dt_base_carga))\n",
    "    setInfo(\"\")\n",
    "    sys.exit(1)\n",
    "\n",
    "if smart_table_name == \"movto_valido\":\n",
    "    movto_valido()\n",
    "elif smart_table_name == \"comissoes\":\n",
    "    comissoes()\n",
    "elif smart_table_name == \"opcao_03\":\n",
    "    opcao_03()\n",
    "else:\n",
    "    print(\"## Smart Table Invalida ou nao informada. ##\")"
   ]
  },
  {
   "cell_type": "code",
   "execution_count": null,
   "metadata": {},
   "outputs": [],
   "source": []
  }
 ],
 "metadata": {
  "kernelspec": {
   "display_name": "Python 3",
   "language": "python",
   "name": "python3"
  },
  "language_info": {
   "codemirror_mode": {
    "name": "ipython",
    "version": 3
   },
   "file_extension": ".py",
   "mimetype": "text/x-python",
   "name": "python",
   "nbconvert_exporter": "python",
   "pygments_lexer": "ipython3",
   "version": "3.7.1"
  }
 },
 "nbformat": 4,
 "nbformat_minor": 2
}
