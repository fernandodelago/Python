{
 "cells": [
  {
   "cell_type": "markdown",
   "metadata": {},
   "source": [
    "## MONTAGEM DE AMBIENTE LOCAL PARA TESTES"
   ]
  },
  {
   "cell_type": "code",
   "execution_count": 1,
   "metadata": {
    "scrolled": true
   },
   "outputs": [],
   "source": [
    "import findspark\n",
    "findspark.init()"
   ]
  },
  {
   "cell_type": "code",
   "execution_count": 2,
   "metadata": {},
   "outputs": [],
   "source": [
    "from pyspark.sql.types import *\n",
    "from pyspark.sql import *\n",
    "from pyspark import SQLContext, HiveContext, SparkContext\n",
    "import os\n",
    "import sys\n",
    "from datetime import date, datetime\n",
    "import pandas as pd"
   ]
  },
  {
   "cell_type": "code",
   "execution_count": 3,
   "metadata": {},
   "outputs": [
    {
     "data": {
      "text/plain": [
       "<pyspark.sql.session.SparkSession.Builder at 0x13fae82a6a0>"
      ]
     },
     "execution_count": 3,
     "metadata": {},
     "output_type": "execute_result"
    }
   ],
   "source": [
    "SparkSession.builder.enableHiveSupport()"
   ]
  },
  {
   "cell_type": "code",
   "execution_count": null,
   "metadata": {},
   "outputs": [],
   "source": [
    "sc.stop()"
   ]
  },
  {
   "cell_type": "code",
   "execution_count": 7,
   "metadata": {},
   "outputs": [],
   "source": [
    "sc = SparkContext()"
   ]
  },
  {
   "cell_type": "code",
   "execution_count": 8,
   "metadata": {},
   "outputs": [],
   "source": [
    "sqlContext = SQLContext(sc)"
   ]
  },
  {
   "cell_type": "code",
   "execution_count": 9,
   "metadata": {},
   "outputs": [],
   "source": [
    "hive_context = HiveContext(sc)"
   ]
  },
  {
   "cell_type": "code",
   "execution_count": 10,
   "metadata": {},
   "outputs": [],
   "source": [
    "hive_database = \"vc\""
   ]
  },
  {
   "cell_type": "code",
   "execution_count": 11,
   "metadata": {
    "scrolled": true
   },
   "outputs": [
    {
     "name": "stdout",
     "output_type": "stream",
     "text": [
      "+------------+\n",
      "|databaseName|\n",
      "+------------+\n",
      "|     default|\n",
      "|          vc|\n",
      "+------------+\n",
      "\n"
     ]
    }
   ],
   "source": [
    "# Dev_enviroment - Montagem do ambiente [referencia -> Dev_Env]\n",
    "# Dev_Env - Criando o database\n",
    "x1 = hive_context.sql(\"\"\"show databases\"\"\").show()"
   ]
  },
  {
   "cell_type": "code",
   "execution_count": 12,
   "metadata": {},
   "outputs": [],
   "source": [
    "#hive_context.sql(\"\"\"create database vc\"\"\")"
   ]
  },
  {
   "cell_type": "code",
   "execution_count": 13,
   "metadata": {},
   "outputs": [
    {
     "data": {
      "text/plain": [
       "DataFrame[]"
      ]
     },
     "execution_count": 13,
     "metadata": {},
     "output_type": "execute_result"
    }
   ],
   "source": [
    "hive_context.sql('drop table if exists vc.vcdt254')"
   ]
  },
  {
   "cell_type": "code",
   "execution_count": 14,
   "metadata": {},
   "outputs": [
    {
     "name": "stdout",
     "output_type": "stream",
     "text": [
      "+--------+---------+-----------+\n",
      "|database|tableName|isTemporary|\n",
      "+--------+---------+-----------+\n",
      "+--------+---------+-----------+\n",
      "\n"
     ]
    }
   ],
   "source": [
    "hive_context.sql(\"show tables in vc\").show()"
   ]
  },
  {
   "cell_type": "code",
   "execution_count": 15,
   "metadata": {},
   "outputs": [
    {
     "data": {
      "text/plain": [
       "DataFrame[]"
      ]
     },
     "execution_count": 15,
     "metadata": {},
     "output_type": "execute_result"
    }
   ],
   "source": [
    "# Dev_Env - Criando a tabela\n",
    "hive_context.sql('drop table if exists vc.vcdt254')\n",
    "\n",
    "hive_context.sql(\"\"\"CREATE TABLE if not exists vc.vcdt254 \n",
    "(   nr_prop STRING,\n",
    "  nr_parc_prop STRING,\n",
    "  nr_apol STRING,\n",
    "  nr_cerf_segr STRING,\n",
    "  cd_segd STRING,\n",
    "  nr_sequ_movi DECIMAL(6,0),\n",
    "  cd_prod_segd STRING,\n",
    "  cd_subp_segd STRING,\n",
    "  dt_oper_cntb STRING,\n",
    "  dt_gera_cntb STRING,\n",
    "  cd_even_cntb STRING,\n",
    "  cd_idef_oper STRING,\n",
    "  nr_cnta_cntb STRING,\n",
    "  tp_cntb STRING,\n",
    "  vl_lanc_cntb DECIMAL(17,2),\n",
    "  tx_info_extt_ha STRING,\n",
    "  cd_empr_ulti_atlz STRING,\n",
    "  cd_cral_ulti_atlz STRING,\n",
    "  cd_usua_ulti_atlz STRING,\n",
    "  cd_tern_ulti_atlz STRING,\n",
    "  dh_ulti_atlz TIMESTAMP,\n",
    "  tx_just_lanc_manl STRING ) \n",
    "  PARTITIONED BY (   dat_ref_carga STRING )\n",
    "  STORED AS PARQUET LOCATION 'C//Temp//vc.db/vcdt254'\"\"\")"
   ]
  },
  {
   "cell_type": "code",
   "execution_count": 16,
   "metadata": {},
   "outputs": [
    {
     "name": "stdout",
     "output_type": "stream",
     "text": [
      "+--------+---------+-----------+\n",
      "|database|tableName|isTemporary|\n",
      "+--------+---------+-----------+\n",
      "|      vc|  vcdt254|      false|\n",
      "+--------+---------+-----------+\n",
      "\n"
     ]
    }
   ],
   "source": [
    "# Dev_Env - Verificando se a tabela foi criada\n",
    "sqlContext.sql(\"\"\"show tables in vc\"\"\").show()"
   ]
  },
  {
   "cell_type": "code",
   "execution_count": 25,
   "metadata": {},
   "outputs": [],
   "source": [
    "# Dev_Env - Carregando arquivo de exemplo para um Pandas dataframe\n",
    "test_raw = pd.read_csv(\"C:\\\\Temp\\\\vcdt254_sample.csv\")"
   ]
  },
  {
   "cell_type": "code",
   "execution_count": 26,
   "metadata": {},
   "outputs": [],
   "source": [
    "# Dev_Env - criando um Spark Dataframe lendo o Pandas Dataframe\n",
    "spark_df = hive_context.createDataFrame(test_raw)"
   ]
  },
  {
   "cell_type": "code",
   "execution_count": 27,
   "metadata": {},
   "outputs": [],
   "source": [
    "# Dev_Env - Salvando o Spark Dataframe na tabela criada\n",
    "spark_df.write.mode(\"overwrite\").saveAsTable(\"vc.vcdt254\")"
   ]
  },
  {
   "cell_type": "code",
   "execution_count": 28,
   "metadata": {},
   "outputs": [
    {
     "data": {
      "text/plain": [
       "25"
      ]
     },
     "execution_count": 28,
     "metadata": {},
     "output_type": "execute_result"
    }
   ],
   "source": [
    "# Dev_Env - Verificando registros na tabela\n",
    "hive_context.sql(\"\"\"select * from vc.vcdt254\"\"\").count()"
   ]
  },
  {
   "cell_type": "code",
   "execution_count": 29,
   "metadata": {},
   "outputs": [
    {
     "name": "stdout",
     "output_type": "stream",
     "text": [
      "root\n",
      " |-- nr_prop: long (nullable = true)\n",
      " |-- nr_parc_prop: long (nullable = true)\n",
      " |-- nr_apol: double (nullable = true)\n",
      " |-- nr_cerf_segr: double (nullable = true)\n",
      " |-- cd_segd: long (nullable = true)\n",
      " |-- nr_sequ_movi: long (nullable = true)\n",
      " |-- cd_prod_segd: long (nullable = true)\n",
      " |-- cd_subp_segd: long (nullable = true)\n",
      " |-- dt_oper_cntb: string (nullable = true)\n",
      " |-- dt_gera_cntb: string (nullable = true)\n",
      " |-- cd_even_cntb: long (nullable = true)\n",
      " |-- cd_idef_oper: long (nullable = true)\n",
      " |-- nr_cnta_cntb: long (nullable = true)\n",
      " |-- tp_cntb: long (nullable = true)\n",
      " |-- vl_lanc_cntb: double (nullable = true)\n",
      " |-- tx_info_extt_ha: string (nullable = true)\n",
      " |-- cd_empr_ulti_atlz: long (nullable = true)\n",
      " |-- cd_cral_ulti_atlz: long (nullable = true)\n",
      " |-- cd_usua_ulti_atlz: string (nullable = true)\n",
      " |-- cd_tern_ulti_atlz: string (nullable = true)\n",
      " |-- dh_ulti_atlz: string (nullable = true)\n",
      " |-- tx_just_lanc_manl: double (nullable = true)\n",
      " |-- dat_ref_carga: string (nullable = true)\n",
      "\n"
     ]
    }
   ],
   "source": [
    "spark_df.printSchema()"
   ]
  },
  {
   "cell_type": "code",
   "execution_count": null,
   "metadata": {},
   "outputs": [],
   "source": []
  }
 ],
 "metadata": {
  "kernelspec": {
   "display_name": "Python 3",
   "language": "python",
   "name": "python3"
  },
  "language_info": {
   "codemirror_mode": {
    "name": "ipython",
    "version": 3
   },
   "file_extension": ".py",
   "mimetype": "text/x-python",
   "name": "python",
   "nbconvert_exporter": "python",
   "pygments_lexer": "ipython3",
   "version": "3.7.3"
  }
 },
 "nbformat": 4,
 "nbformat_minor": 2
}
