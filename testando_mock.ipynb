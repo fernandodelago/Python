{
  "nbformat": 4,
  "nbformat_minor": 0,
  "metadata": {
    "colab": {
      "provenance": []
    },
    "kernelspec": {
      "name": "python3",
      "display_name": "Python 3"
    },
    "language_info": {
      "name": "python"
    }
  },
  "cells": [
    {
      "cell_type": "code",
      "execution_count": null,
      "metadata": {
        "colab": {
          "base_uri": "https://localhost:8080/"
        },
        "id": "7h0aY4gbtf3J",
        "outputId": "5cd87b26-bf12-4791-f72a-c1554b47ff14"
      },
      "outputs": [
        {
          "output_type": "stream",
          "name": "stdout",
          "text": [
            "Collecting mock\n",
            "  Downloading mock-5.1.0-py3-none-any.whl (30 kB)\n",
            "Installing collected packages: mock\n",
            "Successfully installed mock-5.1.0\n"
          ]
        }
      ],
      "source": [
        "%%sh\n",
        "pip install mock"
      ]
    },
    {
      "cell_type": "code",
      "source": [
        "from unittest.mock import Mock"
      ],
      "metadata": {
        "id": "uT8Vb-dXtmFD"
      },
      "execution_count": null,
      "outputs": []
    },
    {
      "cell_type": "code",
      "source": [
        "mock_obj = Mock()"
      ],
      "metadata": {
        "id": "CimxNflYSLCh"
      },
      "execution_count": null,
      "outputs": []
    },
    {
      "cell_type": "code",
      "source": [
        "mock_obj.method.return_value = \"Olá Mundo!\""
      ],
      "metadata": {
        "id": "jrePyDYiSlW1"
      },
      "execution_count": null,
      "outputs": []
    },
    {
      "cell_type": "code",
      "source": [
        "resultado = mock_obj.method()"
      ],
      "metadata": {
        "id": "ji9feO7oTI96"
      },
      "execution_count": null,
      "outputs": []
    },
    {
      "cell_type": "code",
      "source": [
        "print(resultado)"
      ],
      "metadata": {
        "colab": {
          "base_uri": "https://localhost:8080/"
        },
        "id": "-4LXWrLXTPve",
        "outputId": "f3881d4a-b2ea-4c65-a8e1-08db4a4bd191"
      },
      "execution_count": null,
      "outputs": [
        {
          "output_type": "stream",
          "name": "stdout",
          "text": [
            "Olá Mundo!\n"
          ]
        }
      ]
    },
    {
      "cell_type": "markdown",
      "source": [
        "## Exercicio 01 -  Saudação Jovem!\n",
        "> O Básico do Mock\n",
        ">\n",
        "* Crie um objeto Mock.\n",
        "* Configure um método chamado saudacao para retornar \"Bem-vindo!\".\n",
        "* Chame o método e imprima o resultado.\n"
      ],
      "metadata": {
        "id": "72QhPpMtiDKe"
      }
    },
    {
      "cell_type": "code",
      "source": [
        "my_obj_mock = Mock()"
      ],
      "metadata": {
        "id": "qEuKAcO2h_Rm"
      },
      "execution_count": null,
      "outputs": []
    },
    {
      "cell_type": "code",
      "source": [
        "my_obj_mock.method.return_value = 'Olá Jovem!'"
      ],
      "metadata": {
        "id": "p8CyFRQRirAf"
      },
      "execution_count": null,
      "outputs": []
    },
    {
      "cell_type": "code",
      "source": [
        "v_result = my_obj_mock.method()"
      ],
      "metadata": {
        "id": "qSUWsxYKi0Lt"
      },
      "execution_count": null,
      "outputs": []
    },
    {
      "cell_type": "code",
      "source": [
        "print(v_result)"
      ],
      "metadata": {
        "colab": {
          "base_uri": "https://localhost:8080/"
        },
        "id": "vk6pORbvi56P",
        "outputId": "4a52302f-aaba-492f-9b0d-9d84fd0fafec"
      },
      "execution_count": null,
      "outputs": [
        {
          "output_type": "stream",
          "name": "stdout",
          "text": [
            "Olá Jovem!\n"
          ]
        }
      ]
    },
    {
      "cell_type": "markdown",
      "source": [
        "## Exercício 2\n",
        "* Crie um objeto Mock.\n",
        "* Chame um método chamado multiplicar com os argumentos 3 e 4.\n",
        "* Verifique se o método foi chamado corretamente com esses argumentos."
      ],
      "metadata": {
        "id": "KMOPj9zKoVpL"
      }
    },
    {
      "cell_type": "code",
      "source": [
        "my_obj_mock = Mock()"
      ],
      "metadata": {
        "id": "9N9HjyDwi7yt"
      },
      "execution_count": null,
      "outputs": []
    },
    {
      "cell_type": "code",
      "source": [
        "my_obj_mock.multiplicar.return_value = 3 * 4"
      ],
      "metadata": {
        "id": "lqwBfilLsG1u"
      },
      "execution_count": null,
      "outputs": []
    },
    {
      "cell_type": "code",
      "source": [
        "v_result = my_obj_mock.multiplicar()"
      ],
      "metadata": {
        "id": "qJin89NpsVg9"
      },
      "execution_count": null,
      "outputs": []
    },
    {
      "cell_type": "code",
      "source": [
        "print(v_result)"
      ],
      "metadata": {
        "colab": {
          "base_uri": "https://localhost:8080/"
        },
        "id": "QhOWaShNsvrH",
        "outputId": "cce4b578-4718-4736-9430-dd7861a2396f"
      },
      "execution_count": null,
      "outputs": [
        {
          "output_type": "stream",
          "name": "stdout",
          "text": [
            "12\n"
          ]
        }
      ]
    },
    {
      "cell_type": "markdown",
      "source": [
        "## Exemplo 2 - usando patch"
      ],
      "metadata": {
        "id": "P3XBYnTItPly"
      }
    },
    {
      "cell_type": "code",
      "source": [
        "from unittest.mock import patch\n",
        "\n",
        "# Função real\n",
        "def obter_dados():\n",
        "    return \"Dados reais\"\n",
        "\n",
        "# Função de teste que usa patch\n",
        "def testar_obter_dados():\n",
        "  # __main__.obter_dados vai substituir a __main__ da função original da chamada\n",
        "    with patch('__main__.obter_dados', return_value=\"Dados falsos\"):\n",
        "        resultado = obter_dados()\n",
        "        print(resultado)  # Saída: Dados falsos\n",
        "\n",
        "testar_obter_dados()\n"
      ],
      "metadata": {
        "colab": {
          "base_uri": "https://localhost:8080/"
        },
        "id": "2cK4IbVRsyZy",
        "outputId": "cc02dd98-1bdb-43cb-8a48-0905372ebd97"
      },
      "execution_count": null,
      "outputs": [
        {
          "output_type": "stream",
          "name": "stdout",
          "text": [
            "Dados falsos\n"
          ]
        }
      ]
    },
    {
      "cell_type": "code",
      "source": [
        "obter_dados()"
      ],
      "metadata": {
        "colab": {
          "base_uri": "https://localhost:8080/",
          "height": 35
        },
        "id": "0Q0fFdmOvruT",
        "outputId": "9607784a-4f15-4052-fd67-d047e442d822"
      },
      "execution_count": null,
      "outputs": [
        {
          "output_type": "execute_result",
          "data": {
            "text/plain": [
              "'Dados reais'"
            ],
            "application/vnd.google.colaboratory.intrinsic+json": {
              "type": "string"
            }
          },
          "metadata": {},
          "execution_count": 16
        }
      ]
    },
    {
      "cell_type": "markdown",
      "source": [
        "## Exercicio 3\n",
        "* Crie uma função chamada buscar_informacao que retorna \"Informação real\".\n",
        "* Utilize patch para substituir buscar_informacao por uma versão que retorna \"Informação falsa\" durante um teste.\n",
        "* Imprima o resultado dentro do contexto do patch."
      ],
      "metadata": {
        "id": "IFWEv7iXv31R"
      }
    },
    {
      "cell_type": "code",
      "source": [
        "def buscar_informacao():\n",
        "  return 'Informacao Real.'"
      ],
      "metadata": {
        "id": "78hytpSqvwOw"
      },
      "execution_count": null,
      "outputs": []
    },
    {
      "cell_type": "code",
      "source": [
        "def testar_buscar_informacao():\n",
        "  with patch('__main__.buscar_informacao', return_value = 'Informacao false'):\n",
        "    v_result = buscar_informacao()\n",
        "    print(v_result)"
      ],
      "metadata": {
        "id": "0JsqbUAJwNIl"
      },
      "execution_count": null,
      "outputs": []
    },
    {
      "cell_type": "code",
      "source": [
        "testar_buscar_informacao()"
      ],
      "metadata": {
        "colab": {
          "base_uri": "https://localhost:8080/"
        },
        "id": "-3K_I9MkxcqO",
        "outputId": "d7e46ccb-8772-45fe-b291-7a807584e56b"
      },
      "execution_count": null,
      "outputs": [
        {
          "output_type": "stream",
          "name": "stdout",
          "text": [
            "Informacao false\n"
          ]
        }
      ]
    },
    {
      "cell_type": "markdown",
      "source": [
        "## Exemplo 4"
      ],
      "metadata": {
        "id": "DDtsPq2W20q0"
      }
    },
    {
      "cell_type": "code",
      "source": [
        "from unittest.mock import patch\n",
        "\n",
        "class MinhaClasse:\n",
        "    def metodo(self):\n",
        "        return \"Resultado real\"\n",
        "\n",
        "# Função de teste que usa patch.object\n",
        "def testar_metodo():\n",
        "    obj = MinhaClasse()\n",
        "    with patch.object(obj, 'metodo', return_value=\"Resultado falso\"):\n",
        "        resultado = obj.metodo()\n",
        "        print(resultado)  # Saída: Resultado falso\n",
        "\n",
        "testar_metodo()"
      ],
      "metadata": {
        "id": "lB0NVd5xxgOa",
        "colab": {
          "base_uri": "https://localhost:8080/"
        },
        "outputId": "49daf51a-aa10-411f-b0b7-f8154f17eb08"
      },
      "execution_count": null,
      "outputs": [
        {
          "output_type": "stream",
          "name": "stdout",
          "text": [
            "Resultado falso\n"
          ]
        }
      ]
    },
    {
      "cell_type": "markdown",
      "source": [
        "## Exercicio 4\n",
        "\n",
        "* Crie uma classe chamada Calculadora com um método soma que retorna a soma de dois números.\n",
        "* Utilize patch.object para substituir o método soma por uma versão que sempre retorna 10 durante um teste.\n",
        "* Imprima o resultado dentro do contexto do patch.object."
      ],
      "metadata": {
        "id": "nymXeGk-3Rio"
      }
    },
    {
      "cell_type": "code",
      "source": [
        "class Calculadora():\n",
        "  def soma(x, y):\n",
        "    return x + y"
      ],
      "metadata": {
        "id": "iGBp4eEz2-AO"
      },
      "execution_count": null,
      "outputs": []
    },
    {
      "cell_type": "code",
      "source": [
        "def testar_soma():\n",
        "  class_calc = Calculadora()\n",
        "  with patch.object(class_calc, 'soma', return_value=10):\n",
        "    v_result = class_calc.soma()\n",
        "    print('#-- Resultado Falso')\n",
        "    print(v_result)\n"
      ],
      "metadata": {
        "id": "At8lQnom3Obx"
      },
      "execution_count": null,
      "outputs": []
    },
    {
      "cell_type": "code",
      "source": [
        "testar_soma()"
      ],
      "metadata": {
        "colab": {
          "base_uri": "https://localhost:8080/"
        },
        "id": "z57_SGsz4rgZ",
        "outputId": "fe82d176-a2e1-4f86-ed4f-6cf49f8824b0"
      },
      "execution_count": null,
      "outputs": [
        {
          "output_type": "stream",
          "name": "stdout",
          "text": [
            "#-- Resultado Falso\n",
            "10\n"
          ]
        }
      ]
    },
    {
      "cell_type": "code",
      "source": [
        "Calculadora.soma(1, 2)"
      ],
      "metadata": {
        "colab": {
          "base_uri": "https://localhost:8080/"
        },
        "id": "fqtsG5TGoi5W",
        "outputId": "8d961738-b5af-42b8-d26f-62e2ea30ddd1"
      },
      "execution_count": null,
      "outputs": [
        {
          "output_type": "execute_result",
          "data": {
            "text/plain": [
              "3"
            ]
          },
          "metadata": {},
          "execution_count": 29
        }
      ]
    },
    {
      "cell_type": "markdown",
      "source": [
        "## Exemplo 5: Usando side_efect\n",
        "### Retornando varios resultados"
      ],
      "metadata": {
        "id": "p3V6LQsJ486f"
      }
    },
    {
      "cell_type": "code",
      "source": [
        "def efeito_colateral(*args):\n",
        "    if args == (1,):\n",
        "        return \"Um\"\n",
        "    elif args == (2,):\n",
        "        return \"Dois\"\n",
        "    else:\n",
        "        return \"Outro\"\n",
        "\n",
        "mock_obj = Mock()\n",
        "mock_obj.metodo.side_effect = efeito_colateral\n",
        "\n",
        "print(mock_obj.metodo(1))  # Saída: Um\n",
        "print(mock_obj.metodo(2))  # Saída: Dois\n",
        "print(mock_obj.metodo(3))  # Saída: Outro"
      ],
      "metadata": {
        "colab": {
          "base_uri": "https://localhost:8080/"
        },
        "id": "L7IZ9g6I4uuY",
        "outputId": "5911ea81-5489-4167-f223-db5c4779c4d2"
      },
      "execution_count": null,
      "outputs": [
        {
          "output_type": "stream",
          "name": "stdout",
          "text": [
            "Um\n",
            "Dois\n",
            "Outro\n"
          ]
        }
      ]
    },
    {
      "cell_type": "markdown",
      "source": [
        "## Exercicio 5\n",
        "* Crie um objeto Mock.\n",
        "* Configure um método chamado processar com side_effect para retornar \"A\" se o argumento for 10, \"B\" se o argumento for 20 e \"C\" para outros valores.\n",
        "* Chame o método com diferentes argumentos e imprima os resultados."
      ],
      "metadata": {
        "id": "nqDCqAP46w7z"
      }
    },
    {
      "cell_type": "code",
      "source": [
        "obj_mock2 = Mock()"
      ],
      "metadata": {
        "id": "xxPSgmV75NV_"
      },
      "execution_count": null,
      "outputs": []
    },
    {
      "cell_type": "code",
      "source": [
        "def processar(x):\n",
        "  if x == 10:\n",
        "    return 'A'\n",
        "  elif x == 20:\n",
        "    return 'B'\n",
        "  else:\n",
        "    return 'C'"
      ],
      "metadata": {
        "id": "JE3jPyaA72ow"
      },
      "execution_count": null,
      "outputs": []
    },
    {
      "cell_type": "code",
      "source": [
        "obj_mock2.metodo.side_effect = processar"
      ],
      "metadata": {
        "id": "Qx8avtTd8D6R"
      },
      "execution_count": null,
      "outputs": []
    },
    {
      "cell_type": "code",
      "source": [
        "print(obj_mock2.metodo(10))\n",
        "print(obj_mock2.metodo(20))\n",
        "print(obj_mock2.metodo(30))"
      ],
      "metadata": {
        "colab": {
          "base_uri": "https://localhost:8080/"
        },
        "id": "FXFkC1P68vRt",
        "outputId": "f2bcf9f5-5195-4992-f2e0-38cb8c628d3c"
      },
      "execution_count": null,
      "outputs": [
        {
          "output_type": "stream",
          "name": "stdout",
          "text": [
            "A\n",
            "B\n",
            "C\n"
          ]
        }
      ]
    },
    {
      "cell_type": "markdown",
      "source": [
        "## Exemplo 7\n",
        "* Checa se o método foi chamado"
      ],
      "metadata": {
        "id": "x2UhC-s2yvKd"
      }
    },
    {
      "cell_type": "code",
      "source": [
        "mock_obj = Mock()"
      ],
      "metadata": {
        "id": "bVcjlibD84IB"
      },
      "execution_count": null,
      "outputs": []
    },
    {
      "cell_type": "code",
      "source": [
        "print(mock_obj.metodo.called)  # Saída: False"
      ],
      "metadata": {
        "colab": {
          "base_uri": "https://localhost:8080/"
        },
        "id": "uXeiH9pry6eX",
        "outputId": "cba92fd2-2ab2-43fa-980c-1b2a1861927f"
      },
      "execution_count": null,
      "outputs": [
        {
          "output_type": "stream",
          "name": "stdout",
          "text": [
            "False\n"
          ]
        }
      ]
    },
    {
      "cell_type": "code",
      "source": [
        "mock_obj.metodo()"
      ],
      "metadata": {
        "colab": {
          "base_uri": "https://localhost:8080/"
        },
        "id": "_f9gNsiJy8ej",
        "outputId": "680976ae-7d5e-4ba8-da3e-a171909b3a65"
      },
      "execution_count": null,
      "outputs": [
        {
          "output_type": "execute_result",
          "data": {
            "text/plain": [
              "<Mock name='mock.metodo()' id='133359138976672'>"
            ]
          },
          "metadata": {},
          "execution_count": 32
        }
      ]
    },
    {
      "cell_type": "code",
      "source": [
        "print(mock_obj.metodo.called)  # Saída: True"
      ],
      "metadata": {
        "colab": {
          "base_uri": "https://localhost:8080/"
        },
        "id": "MOI2WIIiy_q5",
        "outputId": "fdde0827-a8d5-40fc-f532-30dee5b0b8ea"
      },
      "execution_count": null,
      "outputs": [
        {
          "output_type": "stream",
          "name": "stdout",
          "text": [
            "True\n"
          ]
        }
      ]
    },
    {
      "cell_type": "markdown",
      "source": [
        "----"
      ],
      "metadata": {
        "id": "Rw_7O8iIzfYZ"
      }
    },
    {
      "cell_type": "code",
      "source": [
        "import json"
      ],
      "metadata": {
        "id": "sdlWAucmzb3T"
      },
      "execution_count": null,
      "outputs": []
    },
    {
      "cell_type": "code",
      "source": [
        "json = Mock()"
      ],
      "metadata": {
        "id": "pJKukoHEzB5g"
      },
      "execution_count": null,
      "outputs": []
    },
    {
      "cell_type": "code",
      "source": [
        "json.dumps({'a': 1})"
      ],
      "metadata": {
        "colab": {
          "base_uri": "https://localhost:8080/"
        },
        "id": "mGOs79b7zR3h",
        "outputId": "ec704d99-22d0-446d-cdc4-c8f6bb68d9fc"
      },
      "execution_count": null,
      "outputs": [
        {
          "output_type": "execute_result",
          "data": {
            "text/plain": [
              "<Mock name='mock.dumps()' id='133358746777824'>"
            ]
          },
          "metadata": {},
          "execution_count": 41
        }
      ]
    },
    {
      "cell_type": "code",
      "source": [
        "print(json.dumps.called)"
      ],
      "metadata": {
        "colab": {
          "base_uri": "https://localhost:8080/"
        },
        "id": "x00u_vKZzWXp",
        "outputId": "3d81c054-629a-4c17-8c61-1c2617bd2c25"
      },
      "execution_count": null,
      "outputs": [
        {
          "output_type": "stream",
          "name": "stdout",
          "text": [
            "True\n"
          ]
        }
      ]
    },
    {
      "cell_type": "code",
      "source": [
        "if json.dumps.called:\n",
        "  print('Metodo Mock-fake chamado')\n",
        "else:\n",
        "  print('Metodo Mock-fake nao chamado')"
      ],
      "metadata": {
        "colab": {
          "base_uri": "https://localhost:8080/"
        },
        "id": "8Iv_8UsOznwL",
        "outputId": "cbca89ce-645e-42f3-d85e-27ffe6efd8fa"
      },
      "execution_count": null,
      "outputs": [
        {
          "output_type": "stream",
          "name": "stdout",
          "text": [
            "Metodo Mock-fake chamado\n"
          ]
        }
      ]
    },
    {
      "cell_type": "code",
      "source": [],
      "metadata": {
        "id": "1gk8tfRrz0MJ"
      },
      "execution_count": null,
      "outputs": []
    }
  ]
}