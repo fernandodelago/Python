{
 "cells": [
  {
   "cell_type": "code",
   "execution_count": 0,
   "metadata": {
    "application/vnd.databricks.v1+cell": {
     "cellMetadata": {},
     "inputWidgets": {},
     "nuid": "994ea68c-d4b8-4429-9a32-665bf035caaf",
     "showTitle": false,
     "title": ""
    }
   },
   "outputs": [],
   "source": [
    "%pip install beautifulsoup4"
   ]
  },
  {
   "cell_type": "code",
   "execution_count": 0,
   "metadata": {
    "application/vnd.databricks.v1+cell": {
     "cellMetadata": {
      "byteLimit": 2048000,
      "rowLimit": 10000
     },
     "inputWidgets": {},
     "nuid": "074c6b33-a3db-4670-9cc4-55913128d3c0",
     "showTitle": false,
     "title": ""
    }
   },
   "outputs": [
    {
     "output_type": "stream",
     "name": "stdout",
     "output_type": "stream",
     "text": [
      "Python interpreter will be restarted.\nCollecting lxml\n  Downloading lxml-5.1.0-cp39-cp39-manylinux_2_17_x86_64.manylinux2014_x86_64.whl.metadata (3.5 kB)\nDownloading lxml-5.1.0-cp39-cp39-manylinux_2_17_x86_64.manylinux2014_x86_64.whl (8.0 MB)\n   ━━━━━━━━━━━━━━━━━━━━━━━━━━━━━━━━━━━━━━━━ 8.0/8.0 MB 1.5 MB/s eta 0:00:00\nInstalling collected packages: lxml\nSuccessfully installed lxml-5.1.0\nPython interpreter will be restarted.\n"
     ]
    }
   ],
   "source": [
    "%pip install lxml"
   ]
  },
  {
   "cell_type": "code",
   "execution_count": 0,
   "metadata": {
    "application/vnd.databricks.v1+cell": {
     "cellMetadata": {
      "byteLimit": 2048000,
      "rowLimit": 10000
     },
     "inputWidgets": {},
     "nuid": "e7738cea-5798-4bfe-a5c8-9f87fc8068e7",
     "showTitle": false,
     "title": ""
    }
   },
   "outputs": [
    {
     "output_type": "stream",
     "name": "stdout",
     "output_type": "stream",
     "text": [
      "# Função busca_info_sap_table() definida.\n# Para usar:\nspark_df = busca_info_sap_table(var_sap_table_name)\ndisplay(spark_df)\n"
     ]
    }
   ],
   "source": [
    "def busca_info_sap_table(var_sap_table_name):\n",
    "    '''Busca informações de tabela SAP na web\n",
    "    Requirements\n",
    "    pip install beautifulsoup4\n",
    "    pip install lxml\n",
    "    '''\n",
    "    try:\n",
    "        from bs4 import BeautifulSoup\n",
    "        import requests, json\n",
    "        import pandas as pd\n",
    "\n",
    "        var_sap_table_name = str(var_sap_table_name).lower()\n",
    "        # URL da página de busca\n",
    "        url = \"https://leanx.eu/en/sap/table/{0}.html\".format(var_sap_table_name)\n",
    "        print('# Buscando info de ' + str(var_sap_table_name) + ' na Web.')\n",
    "        # Realiza a requisição\n",
    "        response = requests.get(url)\n",
    "        \n",
    "        # Verifica se a requisição foi bem-sucedida\n",
    "        response.raise_for_status()\n",
    "        \n",
    "        # Obtém o conteúdo da página em formato HTML\n",
    "        data = response.text\n",
    "\n",
    "        soup = BeautifulSoup(data, \"html.parser\")\n",
    "        table = soup.find('table')\n",
    "\n",
    "        if not table:\n",
    "            print('Tabela nao encontrada - pagina web com formatacao diferente do esperado')\n",
    "        \n",
    "        pd_df = pd.read_html(str(table))[0]\n",
    "\n",
    "        return spark.createDataFrame(pd_df)\n",
    "    \n",
    "    except Exception as e:\n",
    "        print(f\"Erro ao ler informações da tabela: {str(e)}\")\n",
    "        print(\"Verique se beautifulsoup4 e lxml estao instalados.\")\n",
    "        return None\n",
    "print('# Função busca_info_sap_table() definida.')\n",
    "print('# Para usar:')\n",
    "print('spark_df = busca_info_sap_table(var_sap_table_name)')\n",
    "print('display(spark_df)')"
   ]
  }
 ],
 "metadata": {
  "application/vnd.databricks.v1+notebook": {
   "dashboards": [],
   "language": "python",
   "notebookMetadata": {
    "mostRecentlyExecutedCommandWithImplicitDF": {
     "commandId": -1,
     "dataframes": [
      "_sqldf"
     ]
    },
    "pythonIndentUnit": 4
   },
   "notebookName": "udf_sap",
   "widgets": {}
  }
 },
 "nbformat": 4,
 "nbformat_minor": 0
}
